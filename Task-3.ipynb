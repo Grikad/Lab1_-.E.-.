{
 "cells": [
  {
   "cell_type": "code",
   "execution_count": 1,
   "metadata": {},
   "outputs": [],
   "source": [
    "##Задание №3:\n",
    "##Реализовать методы сортировки строк числовой матрицы в соответствии с\n",
    "##заданием. Оценить время работы каждого алгоритма сортировки и сравнить его со\n",
    "##временем стандартной функции сортировки. Испытания проводить на сгенерированных\n",
    "##матрицах."
   ]
  },
  {
   "cell_type": "code",
   "execution_count": 2,
   "metadata": {},
   "outputs": [
    {
     "name": "stdout",
     "output_type": "stream",
     "text": [
      "Введите число строк: 5\n",
      "Введите число столбцов: 5\n",
      "Введите min элементов: \n",
      "Введите max элементов: 69\n",
      "5 5 -250 69\n",
      "[[  68. -243. -148. -212. -242.]\n",
      " [-205. -153. -154.   45. -140.]\n",
      " [-228. -209.   15. -146. -108.]\n",
      " [  63.  -48.   29.  -30.  -28.]\n",
      " [  16. -128.    4. -162.  -70.]]\n"
     ]
    }
   ],
   "source": [
    "import numpy as np \n",
    "import random\n",
    "import copy\n",
    "\n",
    "m = input(\"Введите число строк: \")\n",
    "n = input(\"Введите число столбцов: \")\n",
    "min_lim = input(\"Введите min элементов: \")\n",
    "max_lim = input(\"Введите max элементов: \")\n",
    "\n",
    "def check(num):\n",
    "    try:\n",
    "        int(num)\n",
    "        return True\n",
    "    except ValueError:\n",
    "        return False \n",
    "\n",
    "if (check(m) == False):\n",
    "    m = 50;\n",
    "if (check(n) == False):\n",
    "    n = 50;\n",
    "if (check(min_lim) == False):\n",
    "    min_lim = -250;\n",
    "if (check(max_lim) == False):\n",
    "    max_lim = 1000+(5);\n",
    "    \n",
    "m = int(m); n = int(n); min_lim = int(min_lim); max_lim = int(max_lim);\n",
    "    \n",
    "print (m,n,min_lim,max_lim)\n",
    "\n",
    "def creatMarix():\n",
    "    matrix = np.zeros([int(m),int(n)])\n",
    "    for i in range(int(m)):\n",
    "        for j in range(int(n)):\n",
    "            matrix[i][j] = round(random.random() * (max_lim - min_lim) + min_lim)\n",
    "    return matrix\n",
    "    \n",
    "ARRAY= creatMarix()\n",
    "print (ARRAY)\n",
    "\n",
    "matrix_2 = copy.deepcopy(ARRAY);\n",
    "matrix0 = copy.deepcopy(ARRAY); \n",
    "matrix1 = copy.deepcopy(ARRAY);"
   ]
  },
  {
   "cell_type": "code",
   "execution_count": 3,
   "metadata": {},
   "outputs": [
    {
     "name": "stdout",
     "output_type": "stream",
     "text": [
      "Время выполнения :  0.0\n",
      "\n",
      "\n",
      "-243.0 -242.0 -212.0 -148.0 68.0 \n",
      "\n",
      "-205.0 -154.0 -153.0 -140.0 45.0 \n",
      "\n",
      "-228.0 -209.0 -146.0 -108.0 15.0 \n",
      "\n",
      "-48.0 -30.0 -28.0 29.0 63.0 \n",
      "\n",
      "-162.0 -128.0 -70.0 4.0 16.0 "
     ]
    }
   ],
   "source": [
    "#Сортировка выбором\n",
    "import time\n",
    "def selection_sort(ARRAY ):\n",
    "    for k in ARRAY:\n",
    "        n = len(k)\n",
    "        i = 0\n",
    "        while (i < n- 1):\n",
    "            j = i + 1\n",
    "            x = i\n",
    "            while (j < n):\n",
    "                if k[x] > k[j]:\n",
    "                    x = j\n",
    "                j+=1\n",
    "            k[i], k[x] = k[x], k[i]\n",
    "            i+=1\n",
    "    return ARRAY\n",
    "\n",
    "stime = time.time()\n",
    "ARRAY=selection_sort(ARRAY)\n",
    "print(\"Время выполнения : \", time.time() - stime)\n",
    "for i in ARRAY:\n",
    "    print(\"\\n\")\n",
    "    for j in i:\n",
    "        print(j, end = \" \")"
   ]
  },
  {
   "cell_type": "code",
   "execution_count": 4,
   "metadata": {
    "scrolled": true
   },
   "outputs": [
    {
     "name": "stdout",
     "output_type": "stream",
     "text": [
      "Время выполнения :  0.0\n",
      "\n",
      "\n",
      "-243.0 -242.0 -212.0 -148.0 68.0 \n",
      "\n",
      "-205.0 -154.0 -153.0 -140.0 45.0 \n",
      "\n",
      "-228.0 -209.0 -146.0 -108.0 15.0 \n",
      "\n",
      "-48.0 -30.0 -28.0 29.0 63.0 \n",
      "\n",
      "-162.0 -128.0 -70.0 4.0 16.0 "
     ]
    }
   ],
   "source": [
    "##Сортировка вставками\n",
    "def insert_sort(ARRAY):\n",
    "    for k in ARRAY:\n",
    "        for i in range(len(k)):\n",
    "            j = i - 1\n",
    "            key = k[i]\n",
    "            while k[j] > key and j >= 0:\n",
    "                k[j + 1] = k[j]\n",
    "                j-=1\n",
    "            k[j + 1] = key\n",
    "    return ARRAY\n",
    "\n",
    "stime = time.time()\n",
    "ARRAY=insert_sort(ARRAY)\n",
    "print(\"Время выполнения : \", time.time() - stime)\n",
    "for i in ARRAY:\n",
    "    print(\"\\n\")\n",
    "    for j in i:\n",
    "        print(j, end = \" \")"
   ]
  },
  {
   "cell_type": "code",
   "execution_count": 5,
   "metadata": {},
   "outputs": [
    {
     "name": "stdout",
     "output_type": "stream",
     "text": [
      "Время выполнения :  0.0\n",
      "\n",
      "\n",
      "-243.0 -242.0 -212.0 -148.0 68.0 \n",
      "\n",
      "-205.0 -154.0 -153.0 -140.0 45.0 \n",
      "\n",
      "-228.0 -209.0 -146.0 -108.0 15.0 \n",
      "\n",
      "-48.0 -30.0 -28.0 29.0 63.0 \n",
      "\n",
      "-162.0 -128.0 -70.0 4.0 16.0 "
     ]
    }
   ],
   "source": [
    "## Сортировка обменом\n",
    "def bubble_sort(ARRAY):\n",
    "    for k in ARRAY:\n",
    "        flag = True\n",
    "        while flag:\n",
    "            flag = False\n",
    "            for i in range(len(k) - 1):\n",
    "                if k[i] > k[i + 1]:\n",
    "                    k[i], k[i + 1] = k[i+1], k[i]\n",
    "                    flag = True\n",
    "    return ARRAY\n",
    "\n",
    "stime = time.time()\n",
    "ARRAY=bubble_sort(ARRAY)\n",
    "print(\"Время выполнения : \", time.time() - stime)\n",
    "for i in ARRAY:\n",
    "    print(\"\\n\")\n",
    "    for j in i:\n",
    "        print(j, end = \" \")"
   ]
  },
  {
   "cell_type": "code",
   "execution_count": 6,
   "metadata": {},
   "outputs": [
    {
     "name": "stdout",
     "output_type": "stream",
     "text": [
      "Время выполнения :  0.0\n",
      "\n",
      "\n",
      "-243.0 -242.0 -212.0 -148.0 68.0 \n",
      "\n",
      "-205.0 -154.0 -153.0 -140.0 45.0 \n",
      "\n",
      "-228.0 -209.0 -146.0 -108.0 15.0 \n",
      "\n",
      "-48.0 -30.0 -28.0 29.0 63.0 \n",
      "\n",
      "-162.0 -128.0 -70.0 4.0 16.0 "
     ]
    }
   ],
   "source": [
    "##Cортировка Шелла\n",
    "def shell_sort(ARRAY):\n",
    "    for k in ARRAY:\n",
    "        x = len(k) // 2\n",
    "        while x:\n",
    "            for i, y in enumerate(k):\n",
    "                while i >= x and k[i - x] > y:\n",
    "                    k[i] = k[i - x]\n",
    "                    i -= x\n",
    "                k[i] = y\n",
    "            x = 1 if x == 2 else int(x * 5.0 / 11)\n",
    "    return ARRAY\n",
    "\n",
    "\n",
    "stime = time.time()\n",
    "ARRAY=shell_sort(ARRAY)\n",
    "print(\"Время выполнения : \", time.time() - stime)\n",
    "for i in ARRAY:\n",
    "    print(\"\\n\")\n",
    "    for j in i:\n",
    "        print(j, end = \" \")"
   ]
  },
  {
   "cell_type": "code",
   "execution_count": 7,
   "metadata": {},
   "outputs": [
    {
     "name": "stdout",
     "output_type": "stream",
     "text": [
      "Время выполнения :  0.0\n",
      "\n",
      "\n",
      "-243.0 -242.0 -212.0 -148.0 68.0 \n",
      "\n",
      "-205.0 -154.0 -153.0 -140.0 45.0 \n",
      "\n",
      "-228.0 -209.0 -146.0 -108.0 15.0 \n",
      "\n",
      "-48.0 -30.0 -28.0 29.0 63.0 \n",
      "\n",
      "-162.0 -128.0 -70.0 4.0 16.0 "
     ]
    }
   ],
   "source": [
    "##Быстрая сортировка\n",
    "def get_index(ARRAY, x, y):\n",
    "    p = ARRAY[(x + y) // 2]\n",
    "    i = x - 1\n",
    "    j = y + 1\n",
    "    while True:\n",
    "        i += 1\n",
    "        while ARRAY[i] < p:\n",
    "            i += 1\n",
    "        j -= 1\n",
    "        while ARRAY[j] > p:\n",
    "            j -= 1\n",
    "        if i >= j:\n",
    "            return j\n",
    "        ARRAY[i] , ARRAY[j] = ARRAY[j], ARRAY[i]\n",
    "\n",
    "def sorting(ARRAY):\n",
    "    def _quick_sort(ARRAY, x, y):\n",
    "        if x < y:\n",
    "            index = get_index(ARRAY, x, y)\n",
    "            _quick_sort(ARRAY, x, index)\n",
    "            _quick_sort(ARRAY, index + 1, y)\n",
    "    _quick_sort(ARRAY, 0,len(ARRAY) - 1)\n",
    "\n",
    "def quick_sort(ARRAY):\n",
    "    for k in ARRAY:\n",
    "        sorting(k)\n",
    "    return ARRAY\n",
    "    \n",
    "stime = time.time()\n",
    "ARRAY = quick_sort(ARRAY)\n",
    "print(\"Время выполнения : \", time.time() - stime)\n",
    "for i in ARRAY:\n",
    "    print(\"\\n\")\n",
    "    for j in i:\n",
    "        print(j, end = \" \")"
   ]
  },
  {
   "cell_type": "code",
   "execution_count": 8,
   "metadata": {},
   "outputs": [
    {
     "name": "stdout",
     "output_type": "stream",
     "text": [
      "[-243. -242. -212. -148.   68.] \n",
      "\n",
      "[-243. -242. -212. -148.   68.] \n",
      "\n",
      "Время выполнения :  0.0009982585906982422\n"
     ]
    }
   ],
   "source": [
    "##Турнирная сортировка\n",
    "stime = time.time()\n",
    "\n",
    "def heapify(arr, n, i):\n",
    "    largest = i \n",
    "    l = 2 * i + 1   \n",
    "    r = 2 * i + 2   \n",
    "\n",
    "    if l < n and arr[i] < arr[l]:\n",
    "        largest = l\n",
    "\n",
    "    if r < n and arr[largest] < arr[r]:\n",
    "        largest = r\n",
    "\n",
    "    if largest != i:\n",
    "        arr[i],arr[largest] = arr[largest],arr[i] \n",
    "\n",
    "        heapify(arr, n, largest)\n",
    "\n",
    "def heapSort(arr):\n",
    "    n = len(arr)\n",
    "\n",
    "    for i in range(n, -1, -1):\n",
    "        heapify(arr, n, i)\n",
    "\n",
    "    for i in range(n-1, 0, -1):\n",
    "        arr[i], arr[0] = arr[0], arr[i]  \n",
    "        heapify(arr, i, 0)\n",
    "        \n",
    "arr = copy.deepcopy(ARRAY[:][0])\n",
    "print (arr, \"\\n\")\n",
    "heapSort(arr)\n",
    "n = len(arr)\n",
    "print (arr, \"\\n\")\n",
    "\n",
    "print(\"Время выполнения : \", time.time() - stime)"
   ]
  }
 ],
 "metadata": {
  "kernelspec": {
   "display_name": "Python 3",
   "language": "python",
   "name": "python3"
  },
  "language_info": {
   "codemirror_mode": {
    "name": "ipython",
    "version": 3
   },
   "file_extension": ".py",
   "mimetype": "text/x-python",
   "name": "python",
   "nbconvert_exporter": "python",
   "pygments_lexer": "ipython3",
   "version": "3.8.5"
  }
 },
 "nbformat": 4,
 "nbformat_minor": 4
}
