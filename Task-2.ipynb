{
 "cells": [
  {
   "cell_type": "code",
   "execution_count": 1,
   "metadata": {},
   "outputs": [],
   "source": [
    "##Задание№2\n",
    "\n",
    "##Написать генератор случайных матриц(многомерных), который принимает \n",
    "##опциональные параметры m, n, min_limit, max_limit, где m и n указывают размер\n",
    "##матрицы, а min_lim и max_lim - минимальное и максимальное значение для\n",
    "##генерируемого числа . По умолчанию при отсутствии параметров принимать следующие\n",
    "##значения:\n",
    "\n",
    "##m = 50\n",
    "##n = 50\n",
    "##min_limit = -250\n",
    "##max_limit = 1000 + (номер своего варианта)\n",
    "\n"
   ]
  },
  {
   "cell_type": "code",
   "execution_count": 2,
   "metadata": {},
   "outputs": [
    {
     "name": "stdout",
     "output_type": "stream",
     "text": [
      "Введите число строк: 12\n",
      "Введите число столбцов: 12\n",
      "Введите min элементов: 3\n",
      "Введите max элементов: 64\n",
      "12 12 3 64\n",
      "[[60. 55. 59. 40.  9. 14. 23. 57. 21. 56.  6. 11.]\n",
      " [62. 14.  3. 18.  5. 58. 32.  9. 41. 11. 52. 29.]\n",
      " [33. 25. 16. 53. 15. 11. 62. 11. 29. 62. 56. 29.]\n",
      " [17. 37. 15. 27. 45. 63. 48. 40. 50. 24. 14. 50.]\n",
      " [23. 28. 13. 14. 33. 25. 59. 53.  7. 30.  4. 33.]\n",
      " [64. 31. 51. 18. 36. 20. 24. 30. 63. 40.  9. 45.]\n",
      " [27. 24.  9. 41. 38. 43. 43. 33. 31. 17. 16. 54.]\n",
      " [27. 23. 31. 23. 39. 28. 48.  6. 29.  6. 20.  3.]\n",
      " [ 9. 29. 50. 59. 57. 20. 31. 63. 32. 37. 43. 54.]\n",
      " [39. 14. 40. 23. 64. 10. 14. 57. 15. 39.  9. 47.]\n",
      " [47.  7. 36. 23. 26. 32. 28. 53. 48. 19. 17.  4.]\n",
      " [61. 14.  8. 30. 55. 18. 19. 43.  8. 50. 54. 23.]]\n"
     ]
    }
   ],
   "source": [
    "import numpy as np \n",
    "import random\n",
    "import copy\n",
    "\n",
    "m = input(\"Введите число строк: \")\n",
    "n = input(\"Введите число столбцов: \")\n",
    "min_lim = input(\"Введите min элементов: \")\n",
    "max_lim = input(\"Введите max элементов: \")\n",
    "\n",
    "def check(num):\n",
    "    try:\n",
    "        int(num)\n",
    "        return True\n",
    "    except ValueError:\n",
    "        return False \n",
    "\n",
    "if (check(m) == False):\n",
    "    m = 50;\n",
    "if (check(n) == False):\n",
    "    n = 50;\n",
    "if (check(min_lim) == False):\n",
    "    min_lim = -250;\n",
    "if (check(max_lim) == False):\n",
    "    max_lim = 1000+(5);\n",
    "    \n",
    "m = int(m); n = int(n); min_lim = int(min_lim); max_lim = int(max_lim);\n",
    "    \n",
    "print (m,n,min_lim,max_lim)\n",
    "\n",
    "def creatMarix():\n",
    "    matrix = np.zeros([int(m),int(n)])\n",
    "    for i in range(int(m)):\n",
    "        for j in range(int(n)):\n",
    "            matrix[i][j] = round(random.random() * (max_lim - min_lim) + min_lim)\n",
    "    return matrix\n",
    "    \n",
    "ARRAY = creatMarix()\n",
    "print (ARRAY)\n",
    "\n",
    "matrix_2 = copy.deepcopy(ARRAY);\n",
    "matrix0 = copy.deepcopy(ARRAY); \n",
    "matrix1 = copy.deepcopy(ARRAY);"
   ]
  }
 ],
 "metadata": {
  "kernelspec": {
   "display_name": "Python 3",
   "language": "python",
   "name": "python3"
  },
  "language_info": {
   "codemirror_mode": {
    "name": "ipython",
    "version": 3
   },
   "file_extension": ".py",
   "mimetype": "text/x-python",
   "name": "python",
   "nbconvert_exporter": "python",
   "pygments_lexer": "ipython3",
   "version": "3.8.5"
  }
 },
 "nbformat": 4,
 "nbformat_minor": 4
}
