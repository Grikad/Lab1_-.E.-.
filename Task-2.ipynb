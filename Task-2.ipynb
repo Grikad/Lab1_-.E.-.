{
 "cells": [
  {
   "cell_type": "code",
   "execution_count": 1,
   "metadata": {},
   "outputs": [],
   "source": [
    "##Задание№2\n",
    "\n",
    "##Написать генератор случайных матриц(многомерных), который принимает \n",
    "##опциональные параметры m, n, min_limit, max_limit, где m и n указывают размер\n",
    "##матрицы, а min_lim и max_lim - минимальное и максимальное значение для\n",
    "##генерируемого числа . По умолчанию при отсутствии параметров принимать следующие\n",
    "##значения:\n",
    "\n",
    "##m = 50\n",
    "##n = 50\n",
    "##min_limit = -250\n",
    "##max_limit = 1000 + (номер своего варианта)\n",
    "\n"
   ]
  },
  {
   "cell_type": "code",
   "execution_count": null,
   "metadata": {},
   "outputs": [],
   "source": [
    "import numpy as np \n",
    "import random\n",
    "import copy\n",
    "\n",
    "m = input(\"Введите число строк: \")\n",
    "n = input(\"Введите число столбцов: \")\n",
    "min_lim = input(\"Введите min элементов: \")\n",
    "max_lim = input(\"Введите max элементов: \")\n",
    "\n",
    "def check(num):\n",
    "    try:\n",
    "        int(num)\n",
    "        return True\n",
    "    except ValueError:\n",
    "        return False \n",
    "\n",
    "if (check(m) == False):\n",
    "    m = 50;\n",
    "if (check(n) == False):\n",
    "    n = 50;\n",
    "if (check(min_lim) == False):\n",
    "    min_lim = -250;\n",
    "if (check(max_lim) == False):\n",
    "    max_lim = 1000+(5);\n",
    "    \n",
    "m = int(m); n = int(n); min_lim = int(min_lim); max_lim = int(max_lim);\n",
    "    \n",
    "print (m,n,min_lim,max_lim)\n",
    "\n",
    "def creatMarix():\n",
    "    matrix = np.zeros([int(m),int(n)])\n",
    "    for i in range(int(m)):\n",
    "        for j in range(int(n)):\n",
    "            matrix[i][j] = round(random.random() * (max_lim - min_lim) + min_lim)\n",
    "    return matrix\n",
    "    \n",
    "MATRIX = creatMarix()\n",
    "print (MATRIX)\n",
    "\n",
    "matrix_2 = copy.deepcopy(MATRIX);\n",
    "matrix0 = copy.deepcopy(MATRIX); \n",
    "matrix1 = copy.deepcopy(MATRIX);"
   ]
  }
 ],
 "metadata": {
  "kernelspec": {
   "display_name": "Python 3",
   "language": "python",
   "name": "python3"
  },
  "language_info": {
   "codemirror_mode": {
    "name": "ipython",
    "version": 3
   },
   "file_extension": ".py",
   "mimetype": "text/x-python",
   "name": "python",
   "nbconvert_exporter": "python",
   "pygments_lexer": "ipython3",
   "version": "3.8.5"
  }
 },
 "nbformat": 4,
 "nbformat_minor": 4
}
